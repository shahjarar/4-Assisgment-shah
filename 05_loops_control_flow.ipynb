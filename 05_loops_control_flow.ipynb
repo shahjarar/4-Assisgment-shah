{
  "nbformat": 4,
  "nbformat_minor": 0,
  "metadata": {
    "colab": {
      "provenance": [],
      "authorship_tag": "ABX9TyNRxjum0ezaxk2/e/gX4A/t",
      "include_colab_link": true
    },
    "kernelspec": {
      "name": "python3",
      "display_name": "Python 3"
    },
    "language_info": {
      "name": "python"
    }
  },
  "cells": [
    {
      "cell_type": "markdown",
      "metadata": {
        "id": "view-in-github",
        "colab_type": "text"
      },
      "source": [
        "<a href=\"https://colab.research.google.com/github/shahjarar/4-Assisgment-shah/blob/main/05_loops_control_flow.ipynb\" target=\"_parent\"><img src=\"https://colab.research.google.com/assets/colab-badge.svg\" alt=\"Open In Colab\"/></a>"
      ]
    },
    {
      "cell_type": "code",
      "execution_count": 21,
      "metadata": {
        "colab": {
          "base_uri": "https://localhost:8080/"
        },
        "id": "1imCR1hZOLx7",
        "outputId": "8ba527bf-5393-4ddc-a2f1-2d862b00741b"
      },
      "outputs": [
        {
          "output_type": "stream",
          "name": "stdout",
          "text": [
            "00_guess_my_number.\n",
            "I am thinking of a number between 1 and 100....\n",
            "Enter a guess: 66\n",
            "Your guess is too low.\n",
            "Enter a guess: 77\n",
            "Your guess is too low.\n",
            "Enter a guess: 99\n",
            "Your guess is too high.\n",
            "Enter a guess: 70\n",
            "Your guess is too low.\n",
            "Enter a guess: 80\n",
            "Your guess is too low.\n",
            "Enter a guess: 90\n",
            "Your guess is too low.\n",
            "Enter a guess: 98\n",
            "Congratulation! The number was 98\n"
          ]
        }
      ],
      "source": [
        "import random\n",
        "\n",
        "print(\"00_guess_my_number.\")\n",
        "\n",
        "def main():\n",
        "  secret_number = random.randint(1,100)\n",
        "  print(\"I am thinking of a number between 1 and 100....\")\n",
        "\n",
        "  guess = int(input(\"Enter a guess: \"))\n",
        "\n",
        "  while guess != secret_number:\n",
        "    if guess < secret_number:\n",
        "      print(\"Your guess is too low.\")\n",
        "    else:\n",
        "      print(\"Your guess is too high.\")\n",
        "    guess = int(input(\"Enter a guess: \"))\n",
        "\n",
        "  print(f\"Congratulation! The number was {secret_number}\")\n",
        "\n",
        "\n",
        "if __name__ == \"__main__\":\n",
        "  main()"
      ]
    },
    {
      "cell_type": "code",
      "source": [
        "\n",
        "print(\"01_fibonacci\")\n",
        "\n",
        "max_value = 10000\n",
        "\n",
        "def main():\n",
        "  a,b = 0,1\n",
        "  print(a,b, end = \" \")\n",
        "\n",
        "  while True:\n",
        "    c = a+b\n",
        "    if c >= max_value:\n",
        "      break\n",
        "    print(c, end=\" \")\n",
        "    a,b = b,c\n",
        "\n",
        "if __name__ == \"__main__\":\n",
        "  main()"
      ],
      "metadata": {
        "colab": {
          "base_uri": "https://localhost:8080/"
        },
        "id": "jEDZX5coRryN",
        "outputId": "8c0bdaad-1e5e-47d8-99d8-278e32aafbf8"
      },
      "execution_count": 16,
      "outputs": [
        {
          "output_type": "stream",
          "name": "stdout",
          "text": [
            "01_fibonacci\n",
            "0 1 1 2 3 5 8 13 21 34 55 89 144 233 377 610 987 1597 2584 4181 6765 "
          ]
        }
      ]
    },
    {
      "cell_type": "code",
      "source": [
        "print(\"02_print_events\")\n",
        "\n",
        "def main():\n",
        "  for i in range(20):\n",
        "    print(i*2)\n",
        "\n",
        "if __name__ == \"__main__\":\n",
        "  main()"
      ],
      "metadata": {
        "colab": {
          "base_uri": "https://localhost:8080/"
        },
        "id": "rpNcf5nKScvw",
        "outputId": "355c623a-cd68-4e09-e5e0-62580694efbf"
      },
      "execution_count": 22,
      "outputs": [
        {
          "output_type": "stream",
          "name": "stdout",
          "text": [
            "02_print_events\n",
            "0\n",
            "2\n",
            "4\n",
            "6\n",
            "8\n",
            "10\n",
            "12\n",
            "14\n",
            "16\n",
            "18\n",
            "20\n",
            "22\n",
            "24\n",
            "26\n",
            "28\n",
            "30\n",
            "32\n",
            "34\n",
            "36\n",
            "38\n"
          ]
        }
      ]
    }
  ]
}