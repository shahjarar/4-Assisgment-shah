{
  "nbformat": 4,
  "nbformat_minor": 0,
  "metadata": {
    "colab": {
      "provenance": [],
      "authorship_tag": "ABX9TyMQNtUfinqRURaeEX/e3g3l",
      "include_colab_link": true
    },
    "kernelspec": {
      "name": "python3",
      "display_name": "Python 3"
    },
    "language_info": {
      "name": "python"
    }
  },
  "cells": [
    {
      "cell_type": "markdown",
      "metadata": {
        "id": "view-in-github",
        "colab_type": "text"
      },
      "source": [
        "<a href=\"https://colab.research.google.com/github/shahjarar/4-Assisgment-shah/blob/main/02lists_.ipynb\" target=\"_parent\"><img src=\"https://colab.research.google.com/assets/colab-badge.svg\" alt=\"Open In Colab\"/></a>"
      ]
    },
    {
      "cell_type": "code",
      "execution_count": 2,
      "metadata": {
        "colab": {
          "base_uri": "https://localhost:8080/"
        },
        "id": "4xPvT3KkCNdu",
        "outputId": "d2f3a11f-9ae6-469c-8d24-aaa1042cb41c"
      },
      "outputs": [
        {
          "output_type": "stream",
          "name": "stdout",
          "text": [
            "01_add_many_number\n",
            "15\n"
          ]
        }
      ],
      "source": [
        "print(\"01_add_many_number\")\n",
        "\n",
        "def add_number(numbers)->int:\n",
        "  num:int = 0\n",
        "  for i in numbers:\n",
        "    num += i\n",
        "  return num\n",
        "\n",
        "def main():\n",
        "  numbers:list[int]= [1,2,3,4,5]\n",
        "  sum = add_number(numbers)\n",
        "  print(sum)\n",
        "\n",
        "if __name__ == \"__main__\":\n",
        "  main()"
      ]
    },
    {
      "cell_type": "code",
      "source": [
        "print(\"02_double_list\")\n",
        "\n",
        "def main():\n",
        "  numbers:list[int] = [1,2,3,4,5]\n",
        "  for i in range(len(numbers)):\n",
        "    index = numbers[i]\n",
        "    numbers[i] = index * 2\n",
        "  print(numbers)\n",
        "\n",
        "if __name__ == \"__main__\":\n",
        "  main()"
      ],
      "metadata": {
        "colab": {
          "base_uri": "https://localhost:8080/"
        },
        "id": "oseOxO2RHsCM",
        "outputId": "54193721-d3fe-4c63-bf34-d9c776777ff4"
      },
      "execution_count": 5,
      "outputs": [
        {
          "output_type": "stream",
          "name": "stdout",
          "text": [
            "02_double_list\n",
            "[2, 4, 6, 8, 10]\n"
          ]
        }
      ]
    },
    {
      "cell_type": "code",
      "source": [
        "print(\"04_flowing_with_data_structures\")\n",
        "\n",
        "def add_three_copies(lst,data):\n",
        "  for i in range(3):\n",
        "    lst.append(data)\n",
        "\n",
        "def main():\n",
        "  message = input(\"Enter a message to copy\")\n",
        "  lst = []\n",
        "  print(\"Before list: \",lst)\n",
        "  add_three_copies(lst,message)\n",
        "  print(\"After lst: \",lst)\n",
        "\n",
        "if __name__ == \"__main__\":\n",
        "  main()\n",
        "\n"
      ],
      "metadata": {
        "colab": {
          "base_uri": "https://localhost:8080/"
        },
        "id": "gmw4CjidIRZ-",
        "outputId": "63e3b423-bc04-47d3-9034-b3beeac5ab2a"
      },
      "execution_count": 8,
      "outputs": [
        {
          "output_type": "stream",
          "name": "stdout",
          "text": [
            "04_flowing_with_data_structures\n",
            "Enter a message to copyhello world\n",
            "Before list:  []\n",
            "After lst:  ['hello world', 'hello world', 'hello world']\n"
          ]
        }
      ]
    },
    {
      "cell_type": "code",
      "source": [
        "print(\"05_get_first_element\")\n",
        "\n",
        "def get_first_element(lst):\n",
        "  print(lst[0])\n",
        "\n",
        "def get_let():\n",
        "  lst = []\n",
        "  elem:str = input(\"Enter an element to add to the list. \")\n",
        "  while elem != \"\":\n",
        "    lst.append(elem)\n",
        "    elem = input(\"Enter an element to add to the list. \")\n",
        "  return lst\n",
        "\n",
        "\n",
        "def main():\n",
        "  lst = get_let()\n",
        "  get_first_element(lst)\n",
        "\n",
        "if __name__ == \"__main__\":\n",
        "   main()\n"
      ],
      "metadata": {
        "colab": {
          "base_uri": "https://localhost:8080/"
        },
        "id": "aJANK6kDOd9X",
        "outputId": "30e6e8d3-d5d9-499c-940c-dc88311d4a40"
      },
      "execution_count": 9,
      "outputs": [
        {
          "output_type": "stream",
          "name": "stdout",
          "text": [
            "05_get_first_element\n",
            "Enter an element to add to the list. 2\n",
            "Enter an element to add to the list. 5\n",
            "Enter an element to add to the list. 7\n",
            "Enter an element to add to the list. 8\n",
            "Enter an element to add to the list. e\n",
            "Enter an element to add to the list. u\n",
            "Enter an element to add to the list. j\n",
            "Enter an element to add to the list. d\n",
            "Enter an element to add to the list. \n",
            "2\n"
          ]
        }
      ]
    },
    {
      "cell_type": "code",
      "source": [
        "print(\"06_get_last_element\")\n",
        "\n",
        "def get_last_element(lst):\n",
        "  print(lst[-1])\n",
        "\n",
        "def get_let():\n",
        "  lst = []\n",
        "  elem:str = input(\"Enter an element to add to the list. \")\n",
        "  while elem != \"\":\n",
        "    lst.append(elem)\n",
        "    elem = input(\"Enter an element to add to the list. \")\n",
        "  return lst\n",
        "\n",
        "def main():\n",
        "  lst = get_let()\n",
        "  get_last_element(lst)\n",
        "\n",
        "if __name__ == \"__main__\":\n",
        "   main()b\n",
        "\n",
        "\n"
      ],
      "metadata": {
        "colab": {
          "base_uri": "https://localhost:8080/"
        },
        "id": "QEjDJJ5FXBEw",
        "outputId": "4aac27e2-4a06-45a8-f129-86788ae8a597"
      },
      "execution_count": 10,
      "outputs": [
        {
          "output_type": "stream",
          "name": "stdout",
          "text": [
            "06_get_last_element\n",
            "Enter an element to add to the list. r\n",
            "Enter an element to add to the list. u\n",
            "Enter an element to add to the list. g\n",
            "Enter an element to add to the list. \n",
            "g\n"
          ]
        }
      ]
    },
    {
      "cell_type": "code",
      "source": [
        "print(\"07_get_list\")\n",
        "\n",
        "def main():\n",
        "  lst = []\n",
        "  val = input(\"Enter a value to add to the list. \")\n",
        "  while val:\n",
        "    lst.append(val)\n",
        "    val = input(\"Enter a value to add to the list.\")\n",
        "  print(\"Here's the list: \",lst)\n",
        "\n",
        "if __name__ == \"__main__\":\n",
        "  main()"
      ],
      "metadata": {
        "colab": {
          "base_uri": "https://localhost:8080/"
        },
        "id": "HlZg_TYTe0YJ",
        "outputId": "303e849a-cf4e-4b42-a8da-7c3836dc26b6"
      },
      "execution_count": 11,
      "outputs": [
        {
          "output_type": "stream",
          "name": "stdout",
          "text": [
            "07_get_list\n",
            "Enter a value to add to the list. g\n",
            "Enter a value to add to the list.gg\n",
            "Enter a value to add to the list.amina\n",
            "Enter a value to add to the list.yousaf\n",
            "Enter a value to add to the list.mehak\n",
            "Enter a value to add to the list.\n",
            "Here's the list:  ['g', 'gg', 'amina', 'yousaf', 'mehak']\n"
          ]
        }
      ]
    },
    {
      "cell_type": "code",
      "source": [
        "print(\"08_shorten\")\n",
        "\n",
        "MAX_LENGTH: int = 3\n",
        "def shorten(lst):\n",
        "  while len(lst) >= MAX_LENGTH:\n",
        "    last_element = lst.pop()\n",
        "    print(last_element)\n",
        "\n",
        "def get_last():\n",
        "  lst = []\n",
        "  element = input(\"Enter an element to add to the list: \")\n",
        "  while element != \"\":\n",
        "    lst.append(element)\n",
        "    element = input(\"Enter an element to add to the list: \")\n",
        "  return lst\n",
        "\n",
        "def main():\n",
        "   lst = get_let()\n",
        "   shorten(lst)\n",
        "\n",
        "if __name__ == \"__main__\":\n",
        "  main()"
      ],
      "metadata": {
        "colab": {
          "base_uri": "https://localhost:8080/"
        },
        "id": "TAH7yguDhap5",
        "outputId": "a297c34b-b990-4ffc-b5b7-7bfd7a72c9d5"
      },
      "execution_count": 13,
      "outputs": [
        {
          "output_type": "stream",
          "name": "stdout",
          "text": [
            "08_shorten\n",
            "Enter an element to add to the list. www\n",
            "Enter an element to add to the list. gyy\n",
            "Enter an element to add to the list. jjj\n",
            "Enter an element to add to the list. ddd\n",
            "Enter an element to add to the list. hhh\n",
            "Enter an element to add to the list. \n",
            "hhh\n",
            "ddd\n",
            "jjj\n"
          ]
        }
      ]
    }
  ]
}