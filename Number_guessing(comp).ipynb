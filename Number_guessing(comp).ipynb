{
  "nbformat": 4,
  "nbformat_minor": 0,
  "metadata": {
    "colab": {
      "provenance": [],
      "authorship_tag": "ABX9TyPhlU4Oln7BVZkG2FuAZ8yJ",
      "include_colab_link": true
    },
    "kernelspec": {
      "name": "python3",
      "display_name": "Python 3"
    },
    "language_info": {
      "name": "python"
    }
  },
  "cells": [
    {
      "cell_type": "markdown",
      "metadata": {
        "id": "view-in-github",
        "colab_type": "text"
      },
      "source": [
        "<a href=\"https://colab.research.google.com/github/shahjarar/4-Assisgment-shah/blob/main/Number_guessing(comp).ipynb\" target=\"_parent\"><img src=\"https://colab.research.google.com/assets/colab-badge.svg\" alt=\"Open In Colab\"/></a>"
      ]
    },
    {
      "cell_type": "code",
      "source": [
        "\n",
        "import random\n",
        "print(\"\\n ✨Welcome to the Number Guessing Game.✨ \\n\")\n",
        "print(\"\\n 💻 Computer Guess the Number. \\n\")\n",
        "\n",
        "low = 1\n",
        "high = 10\n",
        "\n",
        "print(\"🤔 Think of a number between 1 and 10, and 💻 will try to guess it!\")\n",
        "if low <= high:\n",
        "    guess = random.randint(low,high)\n",
        "    print(f\"🤖 Is your number {guess}?\")\n",
        "\n",
        "    feedback=input(\" 👉 Enter 'h' to indicate the guess is too high, 'l' to indicate the guess is too low, or 'c' to indicate I guessed correctly: \").lower()\n",
        "    if feedback=='h':\n",
        "      high = guess - 1\n",
        "    elif feedback == 'l':\n",
        "      low = guess + 1\n",
        "    elif feedback == 'c':\n",
        "      print(f\"🎉 🎉🎉🎉🎉 Yay! 💻 guess the {guess} correctly. 🎉 🎉🎉🎉🎉\")\n",
        "    else:\n",
        "      print(\"⚠️ Invalid input. Please enter only 'h', 'l', or 'c'. 🚫\")\n",
        "\n",
        "    if low > high:\n",
        "     print(\"😅 Hmm... It seems there was a misunderstanding. Let's try again! 🔄\")\n",
        ""
      ],
      "metadata": {
        "colab": {
          "base_uri": "https://localhost:8080/"
        },
        "id": "Xb3PUcNSYP_Y",
        "outputId": "3e41ee16-00b0-4473-d8a5-537ec5e80927"
      },
      "execution_count": 3,
      "outputs": [
        {
          "output_type": "stream",
          "name": "stdout",
          "text": [
            "\n",
            " ✨Welcome to the Number Guessing Game.✨ \n",
            "\n",
            "\n",
            " 💻 Computer Guess the Number. \n",
            "\n",
            "🤔 Think of a number between 1 and 10, and 💻 will try to guess it!\n",
            "🤖 Is your number 1?\n",
            " 👉 Enter 'h' to indicate the guess is too high, 'l' to indicate the guess is too low, or 'c' to indicate I guessed correctly: 9\n",
            "⚠️ Invalid input. Please enter only 'h', 'l', or 'c'. 🚫\n"
          ]
        }
      ]
    }
  ]
}