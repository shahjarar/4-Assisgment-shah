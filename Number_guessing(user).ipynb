{
  "nbformat": 4,
  "nbformat_minor": 0,
  "metadata": {
    "colab": {
      "provenance": [],
      "authorship_tag": "ABX9TyPkJ5l3SYQl8LKB/I+dlhiE",
      "include_colab_link": true
    },
    "kernelspec": {
      "name": "python3",
      "display_name": "Python 3"
    },
    "language_info": {
      "name": "python"
    }
  },
  "cells": [
    {
      "cell_type": "markdown",
      "metadata": {
        "id": "view-in-github",
        "colab_type": "text"
      },
      "source": [
        "<a href=\"https://colab.research.google.com/github/shahjarar/4-Assisgment-shah/blob/main/Number_guessing(user).ipynb\" target=\"_parent\"><img src=\"https://colab.research.google.com/assets/colab-badge.svg\" alt=\"Open In Colab\"/></a>"
      ]
    },
    {
      "cell_type": "code",
      "execution_count": null,
      "metadata": {
        "colab": {
          "base_uri": "https://localhost:8080/"
        },
        "id": "e9w2OnH1ZCXq",
        "outputId": "8663845c-e59d-4985-fe70-37398c602544"
      },
      "outputs": [
        {
          "output_type": "stream",
          "name": "stdout",
          "text": [
            "\n",
            " ✨Welcome to the Number Guessing Game.✨ \n",
            "\n",
            "\n",
            " 👨‍💻 User Guess the Number 👩‍💻 \n",
            "\n",
            "🎯 I have a Secret Number between 1 to 10. Can you guess it? 🤔\n",
            "🔢Guess the Number.6\n",
            "📉 Too Low! Try again. 🔄\n",
            "🔢Guess the Number.8\n",
            "📉 Too Low! Try again. 🔄\n",
            "🔢Guess the Number.99\n",
            "📈 Too High! Try again. 🔄\n",
            "🔢Guess the Number.67\n",
            "📈 Too High! Try again. 🔄\n",
            "🔢Guess the Number.22\n",
            "📈 Too High! Try again. 🔄\n",
            "🔢Guess the Number.67\n",
            "📈 Too High! Try again. 🔄\n",
            "🔢Guess the Number.33\n",
            "📈 Too High! Try again. 🔄\n",
            "🔢Guess the Number.\n",
            "⚠️ Please enter a valid number! 🚫\n",
            "🔢Guess the Number.22\n",
            "📈 Too High! Try again. 🔄\n"
          ]
        }
      ],
      "source": [
        "import random\n",
        "print(\"\\n ✨Welcome to the Number Guessing Game.✨ \\n\")\n",
        "print(\"\\n 👨‍💻 User Guess the Number 👩‍💻 \\n\")\n",
        "\n",
        "Secret_Number = random.randint(1,10)\n",
        "print(\"🎯 I have a Secret Number between 1 to 10. Can you guess it? 🤔\")\n",
        "\n",
        "while True:\n",
        "  try:\n",
        "    guess = int(input(\"🔢Guess the Number.\"))\n",
        "\n",
        "    if guess > Secret_Number:\n",
        "      print(\"📈 Too High! Try again. 🔄\")\n",
        "    elif guess < Secret_Number:\n",
        "      print(\"📉 Too Low! Try again. 🔄\")\n",
        "    else:\n",
        "      print(\"🎉 🎉🎉🎉🎉 Congratulation you guess the right number. 🎉 🎉🎉🎉🎉\" )\n",
        "      break\n",
        "  except ValueError:\n",
        "    print(\"⚠️ Please enter a valid number! 🚫\")\n",
        "\n",
        "\n"
      ]
    }
  ]
}