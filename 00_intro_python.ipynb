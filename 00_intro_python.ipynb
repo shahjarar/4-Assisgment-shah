{
  "nbformat": 4,
  "nbformat_minor": 0,
  "metadata": {
    "colab": {
      "provenance": [],
      "authorship_tag": "ABX9TyMTBRRqdvnuWl9LIE7+FMo3",
      "include_colab_link": true
    },
    "kernelspec": {
      "name": "python3",
      "display_name": "Python 3"
    },
    "language_info": {
      "name": "python"
    }
  },
  "cells": [
    {
      "cell_type": "markdown",
      "metadata": {
        "id": "view-in-github",
        "colab_type": "text"
      },
      "source": [
        "<a href=\"https://colab.research.google.com/github/shahjarar/4-Assisgment-shah/blob/main/00_intro_python.ipynb\" target=\"_parent\"><img src=\"https://colab.research.google.com/assets/colab-badge.svg\" alt=\"Open In Colab\"/></a>"
      ]
    },
    {
      "cell_type": "code",
      "execution_count": 4,
      "metadata": {
        "colab": {
          "base_uri": "https://localhost:8080/"
        },
        "id": "Nr1tY26tzzc3",
        "outputId": "c5597c3b-7dec-4a8b-945e-2cc262827c60"
      },
      "outputs": [
        {
          "output_type": "stream",
          "name": "stdout",
          "text": [
            "01_add_two_numbers\n",
            "This application for add two numbers\n",
            "Enter your first number.6\n",
            "Enter your second number.8\n",
            "The total sum of 6 and 8 is 14\n"
          ]
        }
      ],
      "source": [
        "print(\"01_add_two_numbers\")\n",
        "\n",
        "def add():\n",
        "  print(\"This application for add two numbers\")\n",
        "  first_number = int(input(\"Enter your first number.\"))\n",
        "  second_number  =  int(input(\"Enter your second number. \"))\n",
        "  total = int(first_number + second_number)\n",
        "  print(f\"The total sum of {first_number} and {second_number} is {total}\")\n",
        "\n",
        "if __name__ == \"__main__\":\n",
        "  add()"
      ]
    },
    {
      "cell_type": "code",
      "source": [
        "print(\"02_agreement_bot\")\n",
        "\n",
        "def bot():\n",
        "  animal = str(input(\"what is your favourite animal?. \"))\n",
        "  print(f\"My favorite animal is also {animal}!\")\n",
        "\n",
        "if __name__ == \"__main__\":\n",
        "  bot()"
      ],
      "metadata": {
        "colab": {
          "base_uri": "https://localhost:8080/"
        },
        "id": "v_e7t7Mu35xH",
        "outputId": "02650f3a-6a1f-4916-9f4a-62d325aca86d"
      },
      "execution_count": 5,
      "outputs": [
        {
          "output_type": "stream",
          "name": "stdout",
          "text": [
            "02_agreement_bot\n",
            "what is your favourite animal?cat\n",
            "My favorite animal is also cat!\n"
          ]
        }
      ]
    },
    {
      "cell_type": "code",
      "source": [
        "print(\"03_fahrenheit_to_celsius\")\n",
        "\n",
        "def temp():\n",
        "  print(\"This code for converting fahrenheit to celsius\")\n",
        "  farhrenheit_degree = float(input(\"Enter your fahrenheit degree. \"))\n",
        "  celsius_degree = ( farhrenheit_degree - 32) * 5.0/9.0\n",
        "  print(f\"Temperature { farhrenheit_degree} F = {celsius_degree} C\")\n",
        "\n",
        "if __name__ == \"__main__\":\n",
        "  temp()\n"
      ],
      "metadata": {
        "colab": {
          "base_uri": "https://localhost:8080/"
        },
        "id": "tvQ3MCFm52wT",
        "outputId": "ee29acc2-96eb-40d4-d56a-f55415606b67"
      },
      "execution_count": 7,
      "outputs": [
        {
          "output_type": "stream",
          "name": "stdout",
          "text": [
            "03_fahrenheit_to_celsius\n",
            "This code for converting fahrenheit to celsius\n",
            "Enter your fahrenheit degree. 33\n",
            "Temperature 33.0F = 0.5555555555555556C\n"
          ]
        }
      ]
    },
    {
      "cell_type": "code",
      "source": [
        "print(\"04_how_old_are_they\")\n",
        "\n",
        "def add_ages():\n",
        "  anthon:int = 21\n",
        "  beth:int = anthon + 6\n",
        "  chen:int = beth + 20\n",
        "  drew:int = chen + anthon\n",
        "  ethan:int = chen\n",
        "\n",
        "  print(\"Anthon is\" + str(anthon))\n",
        "  print(\"Beth is\"  + str(beth))\n",
        "  print(\"chen is\" + str(chen))\n",
        "  print(\"Draw is \" + str(drew))\n",
        "  print(\"Ethen is \" + str(ethan))\n",
        "\n",
        "\n",
        "if __name__ == \"__main__\":\n",
        "  add_ages()"
      ],
      "metadata": {
        "colab": {
          "base_uri": "https://localhost:8080/"
        },
        "id": "Y4CHZ1Lf_FhR",
        "outputId": "fa050c0a-7e7f-41c7-9450-eb5d221b6b80"
      },
      "execution_count": 9,
      "outputs": [
        {
          "output_type": "stream",
          "name": "stdout",
          "text": [
            "04_how_old_are_they\n",
            "Anthon is21\n",
            "Beth is27\n",
            "chen is47\n",
            "Draw is 68\n",
            "Ethen is 47\n"
          ]
        }
      ]
    },
    {
      "cell_type": "code",
      "source": [
        "print(\"05_triangle_perimeter.\")\n",
        "\n",
        "def triangle():\n",
        "  print(\"This code is about perimeter of triangle \")\n",
        "  side1:float = float(input(\"Enter your frist side no of triangle. \"))\n",
        "  side2:float = float(input(\"Enter your second side no of triangle. \"))\n",
        "  side3:float = float(input(\"Enter your third side no of triangle.\"  ))\n",
        "  total:float = float(side1 + side2 + side3)\n",
        "  print(f\"The perimeter of the triangle is {total}\")\n",
        "\n",
        "\n",
        "if __name__ == \"__main__\":\n",
        "  triangle()\n"
      ],
      "metadata": {
        "colab": {
          "base_uri": "https://localhost:8080/"
        },
        "id": "V_r9WsB3Hc07",
        "outputId": "7f8ed567-27b5-41d9-970d-45db11c62839"
      },
      "execution_count": 11,
      "outputs": [
        {
          "output_type": "stream",
          "name": "stdout",
          "text": [
            "05_triangle_perimeter.\n",
            "This code is about perimeter of triangle \n",
            "Enter your frist side no of triangle. 44\n",
            "Enter your second side no of triangle. 77\n",
            "Enter your third side no of triangle.77\n",
            "The perimeter of the triangle is 198.0\n"
          ]
        }
      ]
    },
    {
      "cell_type": "code",
      "source": [
        "print(\"06_square_number\")\n",
        "\n",
        "def square():\n",
        "  print(\"The code is about square of given number\")\n",
        "  num1:int =int(input(\"Enter any number and i will give u a square value. \"))\n",
        "  print(f\"The square of {num1}  is {num1 ** 2}\")\n",
        "\n",
        "if __name__ == \"__main__\":\n",
        "  square()"
      ],
      "metadata": {
        "colab": {
          "base_uri": "https://localhost:8080/"
        },
        "id": "nZeJ-Ps1LZ3t",
        "outputId": "3f3c5bc1-00e6-4c5c-b52e-67359488ee56"
      },
      "execution_count": 12,
      "outputs": [
        {
          "output_type": "stream",
          "name": "stdout",
          "text": [
            "06_square_number\n",
            "The code is about square of given number\n",
            "Enter any number and i will give u a square value. 55\n",
            "The square of 55  is 3025\n"
          ]
        }
      ]
    }
  ]
}