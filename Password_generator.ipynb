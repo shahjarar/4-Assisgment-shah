{
  "nbformat": 4,
  "nbformat_minor": 0,
  "metadata": {
    "colab": {
      "provenance": [],
      "authorship_tag": "ABX9TyPQTpYo8bdwxd4q1+K9Ivzu",
      "include_colab_link": true
    },
    "kernelspec": {
      "name": "python3",
      "display_name": "Python 3"
    },
    "language_info": {
      "name": "python"
    }
  },
  "cells": [
    {
      "cell_type": "markdown",
      "metadata": {
        "id": "view-in-github",
        "colab_type": "text"
      },
      "source": [
        "<a href=\"https://colab.research.google.com/github/shahjarar/4-Assisgment-shah/blob/main/Password_generator.ipynb\" target=\"_parent\"><img src=\"https://colab.research.google.com/assets/colab-badge.svg\" alt=\"Open In Colab\"/></a>"
      ]
    },
    {
      "cell_type": "code",
      "execution_count": 2,
      "metadata": {
        "colab": {
          "base_uri": "https://localhost:8080/"
        },
        "id": "lgmDtHEZ14V1",
        "outputId": "6c18d1b8-53a0-43a8-9ae1-f24f3b945dab"
      },
      "outputs": [
        {
          "output_type": "stream",
          "name": "stdout",
          "text": [
            "\n",
            " ✨Welcome to the Password Generator App.✨ \n",
            "\n",
            "Enter password length: 1\n",
            "includes numbers? (yes/no):no\n",
            "Includes symbols? (yes/no):yes\n",
            "\n",
            "🔑 Your Generated Password:  }\n"
          ]
        }
      ],
      "source": [
        "import random\n",
        "import string\n",
        "\n",
        "print(\"\\n ✨Welcome to the Password Generator App.✨ \\n\")\n",
        "def generate_password(length=12,use_numbers=True,use_symbols=True):\n",
        "  '''Generate strong password with given options.'''\n",
        "  if length < (use_numbers + use_symbols):  # Check if length is enough for constraints\n",
        "        return \"❌ Password length is too short for selected options!\"\n",
        "\n",
        "  characters = string.ascii_letters\n",
        "  if use_numbers:\n",
        "    characters += string.digits\n",
        "  if use_symbols:\n",
        "    characters += string.punctuation\n",
        "  password = \"\".join(random.choice(characters) for _ in range(length))\n",
        "  return password\n",
        "\n",
        "try:\n",
        "  length = int(input(\"Enter password length: \"))\n",
        "  use_numbers = input(\"includes numbers? (yes/no):\").lower() == \"yes\"\n",
        "  use_symbols = input(\"Includes symbols? (yes/no):\").lower() == \"yes\"\n",
        "\n",
        "  password = generate_password(length,use_numbers,use_symbols)\n",
        "  print(\"\\n🔑 Your Generated Password: \", password)\n",
        "except ValueError:\n",
        "    print(\"❌ Please enter a valid number!\")"
      ]
    }
  ]
}