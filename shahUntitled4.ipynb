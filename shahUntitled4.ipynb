
Open In Colab

def main():
    animal = input("What's your favorite animal? ")
    print(f"My favorite animal is also {animal}!")


# This provided line is required at the end of
# Python file to call the main() function.
if __name__ == '__main__':
    main()

