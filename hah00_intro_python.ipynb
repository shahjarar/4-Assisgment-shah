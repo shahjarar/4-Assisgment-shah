
Open In Colab


Open In Colab

print("01_add_two_numbers")

def add():
  print("This application for add two numbers")
  first_number = int(input("Enter your first number. "))
  second_number = int(input("Enter your second nunber. "))
  total = int(first_number + second_number)
  print(f'The total sum of {first_number} and {second_number} is {total}')

if __name__ == "__main__":
  add()


01_add_two_numbers
This application for add two numbers
Enter your first number5
Enter your second nunber.8
The total sum of 5 and 8 is 13

print("02_agreement_bot")

def bot():
  animal = str(input("what their favorite animal is? "))
  print(f'My favorite animal is also {animal}!')

if __name__ == "__main__":
  bot()

02_agreement_bot
What is your favourite animal?cat
My favorite animal is also cat!

print("03_fahrenheit_to_celsius")

def temp():
  print("This code for converting fahrenheit to celsius")
  fahrenheit_degree = float(input("Enter your fahrenheit degree. "))
  celsius_degree = (fahrenheit_degree - 32) * 5.0/9.0
  print(f'Tempereture {fahrenheit_degree} F = {celsius_degree} C')

if __name__ == "__main__":
  temp()

03_fahrenheit_to_celsius
This code for converting fahrenheit to celsius
Enter your fahrenheit degree54
Tempereture 54.0F = 12.222222222222221C

print("04_how_old_are_they")

def add_ages():
  anthon:int = 21
  beth:int = anthon + 6
  chen:int = beth + 20
  drew:int = chen + anthon
  ethan:int = chen

  print("Anthon is " + str(anthon))
  print("Beth is " + str(beth))
  print("Chen is " + str(chen))
  print("Drew is " + str(drew))
  print("Ethen is " + str(ethan))


if __name__ == "__main__":
  add_ages()




04_how_old_are_they
Anthon is 21
Beth is 27
Chen is 47
Drew is 68
Ethen is 47

print("05_triangle_perimeter.")

def triangle():
  print("This code is about perimeter of triangle.")
  side1:float = float(input("Enter your first side no of triangle. "))
  side2:float= float(input("Enter your second side no of triangke. "))
  side3:float = float(input("Enter your third side no of triangle. "))
  total:float = float(side1 + side2 + side3)
  print(f'The perimeter of the triangle is {total}')

if __name__ == "__main__":
  triangle()

05_triangle_perimeter.
This code is about perimeter of triangle.
Enter your first side no of triangle. 5
Enter your second side no of triangke. 3
Enter your third side no of triangle. 2
The perimeter of the triangle is 10.0

print("06_square_number")

def square():
  print("This code is about square of given number")
  num1:int = int(input("Enter any number and i will give u a square value. "))
  print(f'The square of {num1} is {num1 ** 2}')

if __name__ == "__main__":
  square()

06_square_number
This code is about square of given number
Enter any number and i will give u a square value. 5
The square of 5 is 25
     
